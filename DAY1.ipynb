{
 "cells": [
  {
   "cell_type": "markdown",
   "id": "a942a81b",
   "metadata": {},
   "source": [
    "### Shortcuts\n",
    "\n",
    "* Esc+m -> To convert cell into markdown cell\n",
    "* Esc+y -> To convert cell into coding cell\n",
    "* Esc+a -> To create a cell above\n",
    "* Esc+b -> To create a cell below\n",
    "* Esc+h -> shortcuts\n",
    "* Shift+Enter -> To run the cell"
   ]
  },
  {
   "cell_type": "markdown",
   "id": "dc2c8d05",
   "metadata": {},
   "source": [
    "# Largest heading h1\n",
    "## second largest heading h2\n",
    "### h3\n",
    "#### h4\n",
    "##### h5\n",
    "###### h6"
   ]
  },
  {
   "cell_type": "markdown",
   "id": "e7d7e366",
   "metadata": {},
   "source": [
    "### styling the text\n",
    "\n",
    "* *This is italic*\n",
    "* **This is bold text**\n",
    "* ***This is both bold and italic***"
   ]
  },
  {
   "cell_type": "markdown",
   "id": "b0012119",
   "metadata": {},
   "source": [
    "### Inserting links\n",
    "\n",
    "* [Google.com](https://www.google.com)\n",
    "* [Gmail.com](https://www.gmail.com)"
   ]
  },
  {
   "cell_type": "markdown",
   "id": "a9b3cccd",
   "metadata": {},
   "source": [
    "### Data Structures\n",
    "\n",
    "* List\n",
    "* Tuple\n",
    "* Dictionary\n",
    "* Set"
   ]
  },
  {
   "cell_type": "markdown",
   "id": "1db8d102",
   "metadata": {},
   "source": [
    "### Lists\n",
    "\n",
    "* List is a collection of items\n",
    "* List is created by using square brackets[]\n",
    "* list items are seperated by using commas ,\n",
    "* List is mutable i.e changeable"
   ]
  },
  {
   "cell_type": "code",
   "execution_count": 2,
   "id": "4639533d",
   "metadata": {},
   "outputs": [
    {
     "name": "stdout",
     "output_type": "stream",
     "text": [
      "[10, 20, 30, 40, 50]\n",
      "<class 'list'>\n"
     ]
    }
   ],
   "source": [
    "# creating a list\n",
    "\n",
    "lis=[10,20,30,40,50]  # same data type\n",
    "print(lis)\n",
    "print(type(lis))"
   ]
  },
  {
   "cell_type": "code",
   "execution_count": 5,
   "id": "8f40012a",
   "metadata": {
    "collapsed": true
   },
   "outputs": [
    {
     "name": "stdout",
     "output_type": "stream",
     "text": [
      "5\n",
      "50\n",
      "10\n",
      "[10, 20, 30, 40, 50]\n",
      "[50, 40, 30, 20, 10]\n"
     ]
    }
   ],
   "source": [
    "print(len(lis))  # length of a list\n",
    "print(max(lis)) # max value of a list\n",
    "print(min(lis)) # min value of a list\n",
    "print(sorted(lis))   # ascending order\n",
    "print(sorted(lis,reverse=True))  # Descending order\n"
   ]
  },
  {
   "cell_type": "code",
   "execution_count": 6,
   "id": "9eb535c2",
   "metadata": {
    "scrolled": false
   },
   "outputs": [
    {
     "name": "stdout",
     "output_type": "stream",
     "text": [
      "[10, 90, 89.8, 'python']\n",
      "<class 'list'>\n"
     ]
    }
   ],
   "source": [
    "# creating list with different data types\n",
    "\n",
    "li=[10,90,89.8,'python']\n",
    "print(li)\n",
    "print(type(li))"
   ]
  },
  {
   "cell_type": "code",
   "execution_count": null,
   "id": "ce86888e",
   "metadata": {},
   "outputs": [],
   "source": [
    "### accessing elements of a list by using index\n",
    "# [10, 20, 30,40,50]\n",
    "   0   1   2  3  4   # forward index or positive index\n",
    "  -5  -4  -3 -2 -1  # backward index or negative index"
   ]
  },
  {
   "cell_type": "code",
   "execution_count": 13,
   "id": "7355d7eb",
   "metadata": {
    "collapsed": true
   },
   "outputs": [
    {
     "name": "stdout",
     "output_type": "stream",
     "text": [
      "10\n",
      "30\n",
      "50\n",
      "40\n"
     ]
    }
   ],
   "source": [
    "lis= [10,20,30,40,50]\n",
    "print(lis[0])  # first value of a list\n",
    "print(lis[2])\n",
    "print(lis[-1])  # last value of a list\n",
    "print(lis[-2])"
   ]
  },
  {
   "cell_type": "code",
   "execution_count": 14,
   "id": "0c2123d2",
   "metadata": {
    "collapsed": true
   },
   "outputs": [
    {
     "data": {
      "text/plain": [
       "[20, 30, 40, 50]"
      ]
     },
     "execution_count": 14,
     "metadata": {},
     "output_type": "execute_result"
    }
   ],
   "source": [
    "# slicing [start:end:step]\n",
    "\n",
    "li=[10,20,30,40,50,60,70,80] \n",
    "# o/p:  20,30,40,50\n",
    "print(li[1:5:])"
   ]
  },
  {
   "cell_type": "code",
   "execution_count": 15,
   "id": "a031da4c",
   "metadata": {},
   "outputs": [
    {
     "data": {
      "text/plain": [
       "[10, 30, 50, 70]"
      ]
     },
     "execution_count": 15,
     "metadata": {},
     "output_type": "execute_result"
    }
   ],
   "source": [
    "# alternate values 10,30,50,70\n",
    "li[0::2]"
   ]
  },
  {
   "cell_type": "code",
   "execution_count": 16,
   "id": "ab9cfd3f",
   "metadata": {},
   "outputs": [
    {
     "name": "stdout",
     "output_type": "stream",
     "text": [
      "[20, 40, 60, 80]\n"
     ]
    }
   ],
   "source": [
    "# 20,40,60,80\n",
    "print(li[1::2])"
   ]
  },
  {
   "cell_type": "code",
   "execution_count": 17,
   "id": "b6a4d24d",
   "metadata": {},
   "outputs": [
    {
     "data": {
      "text/plain": [
       "[80, 70, 60, 50, 40, 30, 20, 10]"
      ]
     },
     "execution_count": 17,
     "metadata": {},
     "output_type": "execute_result"
    }
   ],
   "source": [
    "# reverse of a list\n",
    "li[::-1]"
   ]
  },
  {
   "cell_type": "code",
   "execution_count": 19,
   "id": "e6741a4c",
   "metadata": {},
   "outputs": [
    {
     "name": "stdout",
     "output_type": "stream",
     "text": [
      "['python', 90, 'java']\n",
      "['python', 'c programming', 'java']\n"
     ]
    }
   ],
   "source": [
    "# list is mutable\n",
    "\n",
    "li=['python',90,'java']\n",
    "print(li)\n",
    "li[1]='c programming'\n",
    "print(li)"
   ]
  },
  {
   "cell_type": "code",
   "execution_count": 20,
   "id": "efee39e3",
   "metadata": {},
   "outputs": [
    {
     "name": "stdout",
     "output_type": "stream",
     "text": [
      "['__add__', '__class__', '__class_getitem__', '__contains__', '__delattr__', '__delitem__', '__dir__', '__doc__', '__eq__', '__format__', '__ge__', '__getattribute__', '__getitem__', '__gt__', '__hash__', '__iadd__', '__imul__', '__init__', '__init_subclass__', '__iter__', '__le__', '__len__', '__lt__', '__mul__', '__ne__', '__new__', '__reduce__', '__reduce_ex__', '__repr__', '__reversed__', '__rmul__', '__setattr__', '__setitem__', '__sizeof__', '__str__', '__subclasshook__', 'append', 'clear', 'copy', 'count', 'extend', 'index', 'insert', 'pop', 'remove', 'reverse', 'sort'] "
     ]
    }
   ],
   "source": [
    "print(dir(li),end=\" \")"
   ]
  },
  {
   "cell_type": "code",
   "execution_count": 21,
   "id": "64e40812",
   "metadata": {},
   "outputs": [
    {
     "name": "stdout",
     "output_type": "stream",
     "text": [
      "[1, 2, 3, 4, 5]\n",
      "[1, 2, 3, 4, 5, 6]\n"
     ]
    }
   ],
   "source": [
    "li=[1,2,3,4,5]\n",
    "print(li)\n",
    "li.append(6) # to add a single item at the end of a list\n",
    "print(li)"
   ]
  },
  {
   "cell_type": "code",
   "execution_count": 22,
   "id": "8869a19d",
   "metadata": {},
   "outputs": [
    {
     "data": {
      "text/plain": [
       "[1, 2, 3, 4, 5, 6, 10, 20, 30]"
      ]
     },
     "execution_count": 22,
     "metadata": {},
     "output_type": "execute_result"
    }
   ],
   "source": [
    "li.extend([10,20,30])\n",
    "li"
   ]
  },
  {
   "cell_type": "code",
   "execution_count": 23,
   "id": "b0d5c7b9",
   "metadata": {},
   "outputs": [
    {
     "data": {
      "text/plain": [
       "[1, 2, 3, 4, 5, 6, 10, 20, 30]"
      ]
     },
     "execution_count": 23,
     "metadata": {},
     "output_type": "execute_result"
    }
   ],
   "source": [
    "li"
   ]
  },
  {
   "cell_type": "code",
   "execution_count": 24,
   "id": "dc8ec17e",
   "metadata": {},
   "outputs": [
    {
     "data": {
      "text/plain": [
       "[1, 2, 3, 4, 5, 6, 10, 20, 30]"
      ]
     },
     "execution_count": 24,
     "metadata": {},
     "output_type": "execute_result"
    }
   ],
   "source": [
    "li"
   ]
  },
  {
   "cell_type": "code",
   "execution_count": 25,
   "id": "542494c3",
   "metadata": {
    "collapsed": true
   },
   "outputs": [
    {
     "data": {
      "text/plain": [
       "6"
      ]
     },
     "execution_count": 25,
     "metadata": {},
     "output_type": "execute_result"
    }
   ],
   "source": [
    "li.index(10)"
   ]
  },
  {
   "cell_type": "code",
   "execution_count": 26,
   "id": "0b7fff8e",
   "metadata": {},
   "outputs": [
    {
     "data": {
      "text/plain": [
       "[1, 2, 3, 4, 5, 6, 10, 15, 20, 30]"
      ]
     },
     "execution_count": 26,
     "metadata": {},
     "output_type": "execute_result"
    }
   ],
   "source": [
    "li.insert(7,15)  # index,value\n",
    "li"
   ]
  },
  {
   "cell_type": "code",
   "execution_count": 27,
   "id": "8a768a43",
   "metadata": {
    "collapsed": true
   },
   "outputs": [
    {
     "data": {
      "text/plain": [
       "[1, 2, 3, 4, 5, 6, 10, 15, 20, 30, 15]"
      ]
     },
     "execution_count": 27,
     "metadata": {},
     "output_type": "execute_result"
    }
   ],
   "source": [
    "li.append(15)\n",
    "li"
   ]
  },
  {
   "cell_type": "code",
   "execution_count": 28,
   "id": "78e340c2",
   "metadata": {
    "scrolled": true
   },
   "outputs": [
    {
     "data": {
      "text/plain": [
       "2"
      ]
     },
     "execution_count": 28,
     "metadata": {},
     "output_type": "execute_result"
    }
   ],
   "source": [
    "li.count(15)"
   ]
  },
  {
   "cell_type": "code",
   "execution_count": 29,
   "id": "e938e5b2",
   "metadata": {},
   "outputs": [
    {
     "data": {
      "text/plain": [
       "15"
      ]
     },
     "execution_count": 29,
     "metadata": {},
     "output_type": "execute_result"
    }
   ],
   "source": [
    "li.pop()\n"
   ]
  },
  {
   "cell_type": "code",
   "execution_count": 30,
   "id": "bee333cd",
   "metadata": {},
   "outputs": [
    {
     "data": {
      "text/plain": [
       "[1, 2, 3, 4, 5, 6, 10, 15, 20, 30]"
      ]
     },
     "execution_count": 30,
     "metadata": {},
     "output_type": "execute_result"
    }
   ],
   "source": [
    "li"
   ]
  },
  {
   "cell_type": "code",
   "execution_count": 31,
   "id": "5ee9ae88",
   "metadata": {},
   "outputs": [
    {
     "name": "stdout",
     "output_type": "stream",
     "text": [
      "[1, 2, 3, 4, 5, 6, 10, 15, 20]\n"
     ]
    }
   ],
   "source": [
    "li.remove(30)  # value\n",
    "print(li)"
   ]
  },
  {
   "cell_type": "code",
   "execution_count": 32,
   "id": "df31797d",
   "metadata": {},
   "outputs": [
    {
     "name": "stdout",
     "output_type": "stream",
     "text": [
      "[78, 89, 65, 45]\n",
      "[78, 89, 65, 45]\n"
     ]
    }
   ],
   "source": [
    "li=[78,89,65,45]\n",
    "li2=li.copy()\n",
    "print(li)\n",
    "print(li2)"
   ]
  },
  {
   "cell_type": "code",
   "execution_count": 34,
   "id": "5de72b80",
   "metadata": {
    "scrolled": false
   },
   "outputs": [
    {
     "data": {
      "text/plain": [
       "[45, 65, 78, 89]"
      ]
     },
     "execution_count": 34,
     "metadata": {},
     "output_type": "execute_result"
    }
   ],
   "source": [
    "li.sort()\n",
    "li"
   ]
  },
  {
   "cell_type": "code",
   "execution_count": 35,
   "id": "d107cd81",
   "metadata": {},
   "outputs": [
    {
     "data": {
      "text/plain": [
       "[89, 78, 65, 45]"
      ]
     },
     "execution_count": 35,
     "metadata": {},
     "output_type": "execute_result"
    }
   ],
   "source": [
    "li.sort(reverse=True)\n",
    "li"
   ]
  },
  {
   "cell_type": "code",
   "execution_count": 36,
   "id": "a6127d5e",
   "metadata": {},
   "outputs": [],
   "source": [
    "li.clear()"
   ]
  },
  {
   "cell_type": "code",
   "execution_count": 37,
   "id": "ab66d4ca",
   "metadata": {
    "collapsed": true
   },
   "outputs": [
    {
     "data": {
      "text/plain": [
       "[]"
      ]
     },
     "execution_count": 37,
     "metadata": {},
     "output_type": "execute_result"
    }
   ],
   "source": [
    "li"
   ]
  },
  {
   "cell_type": "code",
   "execution_count": 38,
   "id": "ed3f57de",
   "metadata": {},
   "outputs": [],
   "source": [
    "del li"
   ]
  },
  {
   "cell_type": "code",
   "execution_count": 39,
   "id": "ec91b2eb",
   "metadata": {
    "collapsed": true
   },
   "outputs": [
    {
     "ename": "NameError",
     "evalue": "name 'li' is not defined",
     "output_type": "error",
     "traceback": [
      "\u001b[1;31m---------------------------------------------------------------------------\u001b[0m",
      "\u001b[1;31mNameError\u001b[0m                                 Traceback (most recent call last)",
      "Cell \u001b[1;32mIn[39], line 1\u001b[0m\n\u001b[1;32m----> 1\u001b[0m \u001b[43mli\u001b[49m\n",
      "\u001b[1;31mNameError\u001b[0m: name 'li' is not defined"
     ]
    }
   ],
   "source": [
    "li"
   ]
  },
  {
   "cell_type": "code",
   "execution_count": 41,
   "id": "e22cc5fd",
   "metadata": {},
   "outputs": [
    {
     "name": "stdout",
     "output_type": "stream",
     "text": [
      "23 45 67 98 "
     ]
    }
   ],
   "source": [
    "# using for loop\n",
    "l=[23,45,67,98]\n",
    "for i in l:\n",
    "    print(i,end=\" \")"
   ]
  },
  {
   "cell_type": "code",
   "execution_count": 48,
   "id": "3f8626a6",
   "metadata": {},
   "outputs": [
    {
     "name": "stdout",
     "output_type": "stream",
     "text": [
      "[68, 44, 28]\n"
     ]
    }
   ],
   "source": [
    "# print even numbers list from the given list\n",
    "l=[23,45,68,44,19,28]\n",
    "# o/p: [68,44,28]\n",
    "el=[]\n",
    "for i in l:\n",
    "    if i%2==0:\n",
    "        el.append(i)\n",
    "print(el)"
   ]
  },
  {
   "cell_type": "markdown",
   "id": "fef8e666",
   "metadata": {},
   "source": [
    "##### List comprehension\n",
    "* to reduce the lines of code\n",
    "* syntax: [o/p-variable  loop condition]"
   ]
  },
  {
   "cell_type": "code",
   "execution_count": 43,
   "id": "5ede9cab",
   "metadata": {},
   "outputs": [
    {
     "data": {
      "text/plain": [
       "[1, 2, 3, 4, 5, 6, 7, 8, 9, 10]"
      ]
     },
     "execution_count": 43,
     "metadata": {},
     "output_type": "execute_result"
    }
   ],
   "source": [
    "# print 1 to 10 numbers using comprehension\n",
    "[i for i in range(1,11)]"
   ]
  },
  {
   "cell_type": "code",
   "execution_count": 44,
   "id": "0ddcdd29",
   "metadata": {
    "collapsed": true
   },
   "outputs": [
    {
     "data": {
      "text/plain": [
       "[2,\n",
       " 4,\n",
       " 6,\n",
       " 8,\n",
       " 10,\n",
       " 12,\n",
       " 14,\n",
       " 16,\n",
       " 18,\n",
       " 20,\n",
       " 22,\n",
       " 24,\n",
       " 26,\n",
       " 28,\n",
       " 30,\n",
       " 32,\n",
       " 34,\n",
       " 36,\n",
       " 38,\n",
       " 40,\n",
       " 42,\n",
       " 44,\n",
       " 46,\n",
       " 48,\n",
       " 50,\n",
       " 52,\n",
       " 54,\n",
       " 56,\n",
       " 58,\n",
       " 60,\n",
       " 62,\n",
       " 64,\n",
       " 66,\n",
       " 68,\n",
       " 70,\n",
       " 72,\n",
       " 74,\n",
       " 76,\n",
       " 78,\n",
       " 80,\n",
       " 82,\n",
       " 84,\n",
       " 86,\n",
       " 88,\n",
       " 90,\n",
       " 92,\n",
       " 94,\n",
       " 96,\n",
       " 98,\n",
       " 100]"
      ]
     },
     "execution_count": 44,
     "metadata": {},
     "output_type": "execute_result"
    }
   ],
   "source": [
    "# print even numbers in the range of 1 to 100\n",
    "[i for i in range(1,101) if i%2==0]"
   ]
  },
  {
   "cell_type": "code",
   "execution_count": 45,
   "id": "baa00878",
   "metadata": {
    "collapsed": true
   },
   "outputs": [
    {
     "data": {
      "text/plain": [
       "[1,\n",
       " 3,\n",
       " 5,\n",
       " 7,\n",
       " 9,\n",
       " 11,\n",
       " 13,\n",
       " 15,\n",
       " 17,\n",
       " 19,\n",
       " 21,\n",
       " 23,\n",
       " 25,\n",
       " 27,\n",
       " 29,\n",
       " 31,\n",
       " 33,\n",
       " 35,\n",
       " 37,\n",
       " 39,\n",
       " 41,\n",
       " 43,\n",
       " 45,\n",
       " 47,\n",
       " 49,\n",
       " 51,\n",
       " 53,\n",
       " 55,\n",
       " 57,\n",
       " 59,\n",
       " 61,\n",
       " 63,\n",
       " 65,\n",
       " 67,\n",
       " 69,\n",
       " 71,\n",
       " 73,\n",
       " 75,\n",
       " 77,\n",
       " 79,\n",
       " 81,\n",
       " 83,\n",
       " 85,\n",
       " 87,\n",
       " 89,\n",
       " 91,\n",
       " 93,\n",
       " 95,\n",
       " 97,\n",
       " 99]"
      ]
     },
     "execution_count": 45,
     "metadata": {},
     "output_type": "execute_result"
    }
   ],
   "source": [
    "# print odd numbers in the range of 1 to 100\n",
    "[i for i in range(1,101) if i%2!=0]"
   ]
  },
  {
   "cell_type": "code",
   "execution_count": 46,
   "id": "1b418b1e",
   "metadata": {},
   "outputs": [
    {
     "data": {
      "text/plain": [
       "[1, 4, 9, 16, 25, 36, 49, 64, 81, 100]"
      ]
     },
     "execution_count": 46,
     "metadata": {},
     "output_type": "execute_result"
    }
   ],
   "source": [
    "# print squares of 1 to 10 numbers\n",
    "[i**2 for i in range(1,11)]"
   ]
  },
  {
   "cell_type": "markdown",
   "id": "95418d1d",
   "metadata": {},
   "source": [
    "### Tuple\n",
    "* Tuple is a collection of elements,created by using\n",
    "parenthesis ()\n",
    "* Tuple is immutable i.e not changeable"
   ]
  },
  {
   "cell_type": "code",
   "execution_count": 56,
   "id": "02ae975b",
   "metadata": {
    "collapsed": true
   },
   "outputs": [
    {
     "name": "stdout",
     "output_type": "stream",
     "text": [
      "(10, 20, 30, 40, 50) <class 'tuple'>\n",
      "5\n",
      "50\n",
      "10\n",
      "[10, 20, 30, 40, 50]\n",
      "[50, 40, 30, 20, 10]\n"
     ]
    }
   ],
   "source": [
    "# creating a tuple\n",
    "t=(10,20,30,40,50) # same data type\n",
    "print(t,type(t))\n",
    "print(len(t))\n",
    "print(max(t))\n",
    "print(min(t))\n",
    "print(sorted(t))\n",
    "print(sorted(t,reverse=True))"
   ]
  },
  {
   "cell_type": "code",
   "execution_count": 57,
   "id": "5b6e2965",
   "metadata": {},
   "outputs": [
    {
     "name": "stdout",
     "output_type": "stream",
     "text": [
      "(10, 27.7, 'hello') <class 'tuple'>\n"
     ]
    }
   ],
   "source": [
    "t1=(10,27.7,'hello')\n",
    "print(t1,type(t1))"
   ]
  },
  {
   "cell_type": "code",
   "execution_count": 59,
   "id": "25fc45e1",
   "metadata": {
    "collapsed": true
   },
   "outputs": [
    {
     "name": "stdout",
     "output_type": "stream",
     "text": [
      "10\n",
      "hello\n"
     ]
    }
   ],
   "source": [
    "# accessing \n",
    "print(t1[0])\n",
    "print(t1[2])"
   ]
  },
  {
   "cell_type": "code",
   "execution_count": 60,
   "id": "49a1df7a",
   "metadata": {},
   "outputs": [
    {
     "name": "stdout",
     "output_type": "stream",
     "text": [
      "(10, 30, 50)\n"
     ]
    }
   ],
   "source": [
    "# slicing \n",
    "print(t[0::2])"
   ]
  },
  {
   "cell_type": "code",
   "execution_count": 66,
   "id": "9c9fdc88",
   "metadata": {
    "scrolled": true
   },
   "outputs": [
    {
     "ename": "TypeError",
     "evalue": "'tuple' object does not support item assignment",
     "output_type": "error",
     "traceback": [
      "\u001b[1;31m---------------------------------------------------------------------------\u001b[0m",
      "\u001b[1;31mTypeError\u001b[0m                                 Traceback (most recent call last)",
      "Cell \u001b[1;32mIn[66], line 4\u001b[0m\n\u001b[0;32m      1\u001b[0m \u001b[38;5;66;03m# tuple is immutable\u001b[39;00m\n\u001b[0;32m      3\u001b[0m t\u001b[38;5;241m=\u001b[39m(\u001b[38;5;241m90\u001b[39m,\u001b[38;5;241m87\u001b[39m,\u001b[38;5;124m'\u001b[39m\u001b[38;5;124mpython\u001b[39m\u001b[38;5;124m'\u001b[39m)\n\u001b[1;32m----> 4\u001b[0m t[\u001b[38;5;241m2\u001b[39m]\u001b[38;5;241m=\u001b[39m\u001b[38;5;241m100\u001b[39m\n",
      "\u001b[1;31mTypeError\u001b[0m: 'tuple' object does not support item assignment"
     ]
    }
   ],
   "source": [
    "# tuple is immutable\n",
    "\n",
    "t=(90,87,'python')\n",
    "t[2]=100  # not possible to edit after once creating tuple"
   ]
  },
  {
   "cell_type": "code",
   "execution_count": 62,
   "id": "c2a064e4",
   "metadata": {
    "collapsed": true
   },
   "outputs": [
    {
     "name": "stdout",
     "output_type": "stream",
     "text": [
      "['__add__', '__class__', '__class_getitem__', '__contains__', '__delattr__', '__dir__', '__doc__', '__eq__', '__format__', '__ge__', '__getattribute__', '__getitem__', '__getnewargs__', '__gt__', '__hash__', '__init__', '__init_subclass__', '__iter__', '__le__', '__len__', '__lt__', '__mul__', '__ne__', '__new__', '__reduce__', '__reduce_ex__', '__repr__', '__rmul__', '__setattr__', '__sizeof__', '__str__', '__subclasshook__', 'count', 'index'] "
     ]
    }
   ],
   "source": [
    "print(dir(t),end=\" \")"
   ]
  },
  {
   "cell_type": "code",
   "execution_count": 68,
   "id": "aaf69d4e",
   "metadata": {
    "collapsed": true
   },
   "outputs": [
    {
     "data": {
      "text/plain": [
       "2"
      ]
     },
     "execution_count": 68,
     "metadata": {},
     "output_type": "execute_result"
    }
   ],
   "source": [
    "t=(12,45,78,12,77)\n",
    "t.count(12)"
   ]
  },
  {
   "cell_type": "code",
   "execution_count": 69,
   "id": "e7afc1ff",
   "metadata": {},
   "outputs": [
    {
     "data": {
      "text/plain": [
       "4"
      ]
     },
     "execution_count": 69,
     "metadata": {},
     "output_type": "execute_result"
    }
   ],
   "source": [
    "t.index(77)"
   ]
  },
  {
   "cell_type": "markdown",
   "id": "a0034661",
   "metadata": {},
   "source": [
    "### Dictionary\n",
    "\n",
    "* Dictionary is a set of key and value pair or collection of items\n",
    "* both key and value pair together called as item\n",
    "* in Dictionary keys acts as index to access values\n",
    "* created by using {}\n"
   ]
  },
  {
   "cell_type": "code",
   "execution_count": 73,
   "id": "8651af51",
   "metadata": {},
   "outputs": [
    {
     "name": "stdout",
     "output_type": "stream",
     "text": [
      "{1: 10, 2: 20, 3: 30, 4: 40, 5: 50} <class 'dict'>\n",
      "dict_keys([1, 2, 3, 4, 5])\n",
      "dict_values([10, 20, 30, 40, 50])\n",
      "dict_items([(1, 10), (2, 20), (3, 30), (4, 40), (5, 50)])\n"
     ]
    }
   ],
   "source": [
    "# creating a dictionary\n",
    "\n",
    "d={1:10,2:20,3:30,4:40,5:50}  # key:value\n",
    "print(d,type(d))\n",
    "print(d.keys())\n",
    "print(d.values())\n",
    "print(d.items())"
   ]
  },
  {
   "cell_type": "code",
   "execution_count": 74,
   "id": "e4ba6c25",
   "metadata": {},
   "outputs": [
    {
     "name": "stdout",
     "output_type": "stream",
     "text": [
      "1 : 10\n",
      "2 : 20\n",
      "3 : 30\n",
      "4 : 40\n",
      "5 : 50\n"
     ]
    }
   ],
   "source": [
    "for k,v in d.items():\n",
    "    print(k,\":\",v)"
   ]
  },
  {
   "cell_type": "code",
   "execution_count": 76,
   "id": "ba082974",
   "metadata": {},
   "outputs": [
    {
     "name": "stdout",
     "output_type": "stream",
     "text": [
      "['__class__', '__class_getitem__', '__contains__', '__delattr__', '__delitem__', '__dir__', '__doc__', '__eq__', '__format__', '__ge__', '__getattribute__', '__getitem__', '__gt__', '__hash__', '__init__', '__init_subclass__', '__ior__', '__iter__', '__le__', '__len__', '__lt__', '__ne__', '__new__', '__or__', '__reduce__', '__reduce_ex__', '__repr__', '__reversed__', '__ror__', '__setattr__', '__setitem__', '__sizeof__', '__str__', '__subclasshook__', 'clear', 'copy', 'fromkeys', 'get', 'items', 'keys', 'pop', 'popitem', 'setdefault', 'update', 'values'] "
     ]
    }
   ],
   "source": [
    "print(dir(d),end=\" \")"
   ]
  },
  {
   "cell_type": "code",
   "execution_count": 77,
   "id": "8dd77804",
   "metadata": {
    "scrolled": false
   },
   "outputs": [
    {
     "data": {
      "text/plain": [
       "{1: 10, 2: 20, 3: 30, 4: 40, 5: 50}"
      ]
     },
     "execution_count": 77,
     "metadata": {},
     "output_type": "execute_result"
    }
   ],
   "source": [
    "# accessing dictionary values by using keys\n",
    "\n",
    "d"
   ]
  },
  {
   "cell_type": "code",
   "execution_count": 79,
   "id": "a7ab4991",
   "metadata": {},
   "outputs": [
    {
     "name": "stdout",
     "output_type": "stream",
     "text": [
      "10\n",
      "30\n"
     ]
    }
   ],
   "source": [
    "print(d[1])\n",
    "print(d[3])"
   ]
  },
  {
   "cell_type": "code",
   "execution_count": 80,
   "id": "49fa382d",
   "metadata": {},
   "outputs": [
    {
     "name": "stdout",
     "output_type": "stream",
     "text": [
      "5\n"
     ]
    }
   ],
   "source": [
    "print(len(d)) # length"
   ]
  },
  {
   "cell_type": "code",
   "execution_count": 83,
   "id": "9c6a1629",
   "metadata": {},
   "outputs": [
    {
     "data": {
      "text/plain": [
       "{1: 10, 2: 'python', 3: 30, 4: 40, 5: 50}"
      ]
     },
     "execution_count": 83,
     "metadata": {},
     "output_type": "execute_result"
    }
   ],
   "source": [
    "# updating dictionary values\n",
    "\n",
    "d[2]='python'  # dict[key]=value\n",
    "d"
   ]
  },
  {
   "cell_type": "code",
   "execution_count": 84,
   "id": "64aafb4d",
   "metadata": {
    "scrolled": true
   },
   "outputs": [
    {
     "data": {
      "text/plain": [
       "40"
      ]
     },
     "execution_count": 84,
     "metadata": {},
     "output_type": "execute_result"
    }
   ],
   "source": [
    "d.get(4) # key"
   ]
  },
  {
   "cell_type": "code",
   "execution_count": 85,
   "id": "b82569a4",
   "metadata": {},
   "outputs": [
    {
     "data": {
      "text/plain": [
       "{1: 10, 2: 'python', 3: 30, 4: 40, 5: 50, 6: 'java'}"
      ]
     },
     "execution_count": 85,
     "metadata": {},
     "output_type": "execute_result"
    }
   ],
   "source": [
    "d.update({6:\"java\"})\n",
    "d"
   ]
  },
  {
   "cell_type": "code",
   "execution_count": 86,
   "id": "d18095e1",
   "metadata": {},
   "outputs": [],
   "source": [
    "d.clear()"
   ]
  },
  {
   "cell_type": "code",
   "execution_count": 87,
   "id": "e404a2f9",
   "metadata": {},
   "outputs": [
    {
     "data": {
      "text/plain": [
       "{}"
      ]
     },
     "execution_count": 87,
     "metadata": {},
     "output_type": "execute_result"
    }
   ],
   "source": [
    "d"
   ]
  },
  {
   "cell_type": "code",
   "execution_count": 88,
   "id": "37b003b1",
   "metadata": {},
   "outputs": [],
   "source": [
    "del d"
   ]
  },
  {
   "cell_type": "code",
   "execution_count": 89,
   "id": "a77bd1a9",
   "metadata": {},
   "outputs": [
    {
     "ename": "NameError",
     "evalue": "name 'd' is not defined",
     "output_type": "error",
     "traceback": [
      "\u001b[1;31m---------------------------------------------------------------------------\u001b[0m",
      "\u001b[1;31mNameError\u001b[0m                                 Traceback (most recent call last)",
      "Cell \u001b[1;32mIn[89], line 1\u001b[0m\n\u001b[1;32m----> 1\u001b[0m \u001b[43md\u001b[49m\n",
      "\u001b[1;31mNameError\u001b[0m: name 'd' is not defined"
     ]
    }
   ],
   "source": [
    "d"
   ]
  },
  {
   "cell_type": "code",
   "execution_count": null,
   "id": "2bb5196f",
   "metadata": {},
   "outputs": [],
   "source": []
  }
 ],
 "metadata": {
  "kernelspec": {
   "display_name": "Python 3 (ipykernel)",
   "language": "python",
   "name": "python3"
  },
  "language_info": {
   "codemirror_mode": {
    "name": "ipython",
    "version": 3
   },
   "file_extension": ".py",
   "mimetype": "text/x-python",
   "name": "python",
   "nbconvert_exporter": "python",
   "pygments_lexer": "ipython3",
   "version": "3.10.9"
  }
 },
 "nbformat": 4,
 "nbformat_minor": 5
}
